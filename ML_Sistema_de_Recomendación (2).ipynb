{
  "nbformat": 4,
  "nbformat_minor": 0,
  "metadata": {
    "colab": {
      "provenance": []
    },
    "kernelspec": {
      "name": "python3",
      "display_name": "Python 3"
    },
    "language_info": {
      "name": "python"
    }
  },
  "cells": [
    {
      "cell_type": "code",
      "execution_count": null,
      "metadata": {
        "id": "bOh5s5biyQI2"
      },
      "outputs": [],
      "source": [
        "import pandas as pd\n",
        "import numpy as np\n",
        "import pickle"
      ]
    },
    {
      "cell_type": "code",
      "source": [
        "movies = pd.read_csv('/content/para_ML_.csv')"
      ],
      "metadata": {
        "id": "vBynMZgqypgK"
      },
      "execution_count": null,
      "outputs": []
    },
    {
      "cell_type": "code",
      "source": [
        "from sklearn.feature_extraction.text import CountVectorizer\n",
        "co = CountVectorizer(max_features=7000, stop_words='english')"
      ],
      "metadata": {
        "id": "dfjCyg7czcRq"
      },
      "execution_count": null,
      "outputs": []
    },
    {
      "cell_type": "code",
      "source": [
        "vector = co.fit_transform(movies['tag']).toarray()"
      ],
      "metadata": {
        "id": "gcxzeJa46kAR"
      },
      "execution_count": null,
      "outputs": []
    },
    {
      "cell_type": "code",
      "source": [
        "vector[0]"
      ],
      "metadata": {
        "colab": {
          "base_uri": "https://localhost:8080/"
        },
        "id": "MCHCsGDA7BIf",
        "outputId": "04097dee-d96b-4c17-a80f-bdb9dc19dc43"
      },
      "execution_count": null,
      "outputs": [
        {
          "output_type": "execute_result",
          "data": {
            "text/plain": [
              "array([0, 0, 0, ..., 0, 0, 0])"
            ]
          },
          "metadata": {},
          "execution_count": 24
        }
      ]
    },
    {
      "cell_type": "code",
      "source": [
        "cove.get_feature_names_out()"
      ],
      "metadata": {
        "colab": {
          "base_uri": "https://localhost:8080/"
        },
        "id": "oUK1KQfM7H7m",
        "outputId": "9380b43a-a19a-4330-edef-3c90b5c8a201"
      },
      "execution_count": null,
      "outputs": [
        {
          "output_type": "execute_result",
          "data": {
            "text/plain": [
              "array(['000', '10', '100', ..., 'моррисчестнат', 'эрикаэлениак', '松田龙平'],\n",
              "      dtype=object)"
            ]
          },
          "metadata": {},
          "execution_count": 28
        }
      ]
    },
    {
      "cell_type": "code",
      "source": [
        "from sklearn.metrics.pairwise import cosine_similarity"
      ],
      "metadata": {
        "id": "OqxU9APSdr0_"
      },
      "execution_count": null,
      "outputs": []
    },
    {
      "cell_type": "code",
      "source": [
        "recomienda = cosine_similarity(vector)"
      ],
      "metadata": {
        "id": "X65Qib9P9g0G"
      },
      "execution_count": null,
      "outputs": []
    },
    {
      "cell_type": "code",
      "source": [
        "def recomiendame(movie):\n",
        "  movie_index = movies[movies['title'] == movie].index[0]\n",
        "  distances = recomienda[movie_index]\n",
        "  movie_list = distances.argsort()[-6:-1]\n",
        "\n",
        "  return [(movies.iloc[i].title) for i in movie_list]"
      ],
      "metadata": {
        "id": "freycaNPQ5yp"
      },
      "execution_count": null,
      "outputs": []
    },
    {
      "cell_type": "code",
      "source": [
        "recomiendame('Jumanji')"
      ],
      "metadata": {
        "colab": {
          "base_uri": "https://localhost:8080/"
        },
        "id": "wImw2r1uQ71J",
        "outputId": "e9797242-2390-4f53-c282-8d30e5074564"
      },
      "execution_count": null,
      "outputs": [
        {
          "output_type": "execute_result",
          "data": {
            "text/plain": [
              "['Nirvana', 'Stay Alive', 'Brainscan', 'Dungeons & Dragons', 'Word Wars']"
            ]
          },
          "metadata": {},
          "execution_count": 35
        }
      ]
    },
    {
      "cell_type": "code",
      "source": [
        "pickle.dump(recomienda, open('recomienda.pkl','wb'))"
      ],
      "metadata": {
        "id": "DjSMdH7ukQqE"
      },
      "execution_count": null,
      "outputs": []
    }
  ]
}
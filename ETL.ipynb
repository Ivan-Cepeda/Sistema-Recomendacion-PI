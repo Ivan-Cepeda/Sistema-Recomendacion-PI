{
  "cells": [
    {
      "cell_type": "markdown",
      "metadata": {
        "id": "KtCl7LZFEmxr"
      },
      "source": [
        "# **ETL (Extracción, Transformación y Carga de los datos)**\n",
        "#En este proceso vamos a realizar las transformaciones necesarias, con el fin de que nuestros datos queden optimizados para nuestras consultas."
      ]
    },
    {
      "cell_type": "markdown",
      "metadata": {
        "id": "_czmoXNNFzf6"
      },
      "source": [
        "###   Antes de iniciar, deberemos importar las librerias necesarias que facilitaran nuestro proceso."
      ]
    },
    {
      "cell_type": "code",
      "execution_count": 41,
      "metadata": {
        "id": "uME0u0RDOrtl"
      },
      "outputs": [],
      "source": [
        "#Importamos las librerias\n",
        "import pandas as pd\n",
        "import numpy as np\n",
        "import ast\n",
        "import re\n",
        "import json\n",
        "import nltk"
      ]
    },
    {
      "cell_type": "markdown",
      "metadata": {
        "id": "-G3Ru06GEiui"
      },
      "source": [
        "### Ahora es necesario cargar los datasets proporcionados para iniciar con nuestro proceso, en este caso nos vamos a valer de la función ***'read_csv'*** de la libreria Pandas, ya que concuerda con el formato en que fueron entregado los datos."
      ]
    },
    {
      "cell_type": "code",
      "execution_count": 18,
      "metadata": {
        "colab": {
          "base_uri": "https://localhost:8080/"
        },
        "id": "u1xuKHXfQkT0",
        "outputId": "81e3e3c4-8117-4b2c-9037-bf092e5a24a5"
      },
      "outputs": [
        {
          "output_type": "stream",
          "name": "stderr",
          "text": [
            "<ipython-input-18-074ee4df6042>:2: DtypeWarning: Columns (10) have mixed types. Specify dtype option on import or set low_memory=False.\n",
            "  movies = pd.read_csv('/content/movies_dataset.csv')\n"
          ]
        }
      ],
      "source": [
        "#Cargar los datos desde csv\n",
        "movies = pd.read_csv('/content/movies_dataset.csv')\n",
        "credits = pd.read_csv('/content/credits.csv')\n"
      ]
    },
    {
      "cell_type": "markdown",
      "metadata": {
        "id": "UrtJVa7f-o4n"
      },
      "source": [
        "### Se evaluan las estructuras y dimensiones los datasets proporcionados."
      ]
    },
    {
      "cell_type": "code",
      "execution_count": 19,
      "metadata": {
        "colab": {
          "base_uri": "https://localhost:8080/"
        },
        "id": "pgapFy9BRU4I",
        "outputId": "fa311a17-e0c8-46be-d4ec-d576761408df"
      },
      "outputs": [
        {
          "output_type": "stream",
          "name": "stdout",
          "text": [
            "(45466, 24)\n",
            "(45476, 3)\n",
            "<class 'pandas.core.frame.DataFrame'>\n",
            "RangeIndex: 45466 entries, 0 to 45465\n",
            "Data columns (total 24 columns):\n",
            " #   Column                 Non-Null Count  Dtype  \n",
            "---  ------                 --------------  -----  \n",
            " 0   adult                  45466 non-null  object \n",
            " 1   belongs_to_collection  4494 non-null   object \n",
            " 2   budget                 45466 non-null  object \n",
            " 3   genres                 45466 non-null  object \n",
            " 4   homepage               7782 non-null   object \n",
            " 5   id                     45466 non-null  object \n",
            " 6   imdb_id                45449 non-null  object \n",
            " 7   original_language      45455 non-null  object \n",
            " 8   original_title         45466 non-null  object \n",
            " 9   overview               44512 non-null  object \n",
            " 10  popularity             45461 non-null  object \n",
            " 11  poster_path            45080 non-null  object \n",
            " 12  production_companies   45463 non-null  object \n",
            " 13  production_countries   45463 non-null  object \n",
            " 14  release_date           45379 non-null  object \n",
            " 15  revenue                45460 non-null  float64\n",
            " 16  runtime                45203 non-null  float64\n",
            " 17  spoken_languages       45460 non-null  object \n",
            " 18  status                 45379 non-null  object \n",
            " 19  tagline                20412 non-null  object \n",
            " 20  title                  45460 non-null  object \n",
            " 21  video                  45460 non-null  object \n",
            " 22  vote_average           45460 non-null  float64\n",
            " 23  vote_count             45460 non-null  float64\n",
            "dtypes: float64(4), object(20)\n",
            "memory usage: 8.3+ MB\n",
            "None\n",
            "<class 'pandas.core.frame.DataFrame'>\n",
            "RangeIndex: 45476 entries, 0 to 45475\n",
            "Data columns (total 3 columns):\n",
            " #   Column  Non-Null Count  Dtype \n",
            "---  ------  --------------  ----- \n",
            " 0   cast    45476 non-null  object\n",
            " 1   crew    45476 non-null  object\n",
            " 2   id      45476 non-null  int64 \n",
            "dtypes: int64(1), object(2)\n",
            "memory usage: 1.0+ MB\n",
            "None\n",
            "   adult                              belongs_to_collection    budget  \\\n",
            "0  False  {'id': 10194, 'name': 'Toy Story Collection', ...  30000000   \n",
            "\n",
            "                                              genres  \\\n",
            "0  [{'id': 16, 'name': 'Animation'}, {'id': 35, '...   \n",
            "\n",
            "                               homepage   id    imdb_id original_language  \\\n",
            "0  http://toystory.disney.com/toy-story  862  tt0114709                en   \n",
            "\n",
            "  original_title                                           overview  ...  \\\n",
            "0      Toy Story  Led by Woody, Andy's toys live happily in his ...  ...   \n",
            "\n",
            "  release_date      revenue runtime                          spoken_languages  \\\n",
            "0   1995-10-30  373554033.0    81.0  [{'iso_639_1': 'en', 'name': 'English'}]   \n",
            "\n",
            "     status  tagline      title  video vote_average vote_count  \n",
            "0  Released      NaN  Toy Story  False          7.7     5415.0  \n",
            "\n",
            "[1 rows x 24 columns]\n",
            "                                                cast  \\\n",
            "0  [{'cast_id': 14, 'character': 'Woody (voice)',...   \n",
            "\n",
            "                                                crew   id  \n",
            "0  [{'credit_id': '52fe4284c3a36847f8024f49', 'de...  862  \n"
          ]
        }
      ],
      "source": [
        "#Observamos la estructura y distribución de los datos\n",
        "print(movies.shape)\n",
        "print(credits.shape)\n",
        "print(movies.info())\n",
        "print(credits.info())\n",
        "print(movies.head(1))\n",
        "print(credits.head(1))"
      ]
    },
    {
      "cell_type": "markdown",
      "metadata": {
        "id": "-OCoLFuoCb62"
      },
      "source": [
        "### Para mayor facilidad de trabajo sería prudente unir ambos datasets, sin embargo la única columna similar es el '***id***', pero los tipos de datos son distintos, primero se transformará y luego se hará la unión."
      ]
    },
    {
      "cell_type": "code",
      "execution_count": 20,
      "metadata": {
        "colab": {
          "base_uri": "https://localhost:8080/"
        },
        "id": "Xqhm4pvTDnxh",
        "outputId": "6a00face-e0a6-4e9a-e91c-4ab37c33818b"
      },
      "outputs": [
        {
          "output_type": "execute_result",
          "data": {
            "text/plain": [
              "(45538, 26)"
            ]
          },
          "metadata": {},
          "execution_count": 20
        }
      ],
      "source": [
        "#Transformamos la columna 'id' de Movies a valor numérico\n",
        "movies['id'] = pd.to_numeric(movies['id'], errors='coerce')\n",
        "\n",
        "#Hacemos la unión de los dos datasets con la función 'merge()' de Pandas.\n",
        "movies = pd.merge(left=movies, right = credits, how='inner', on='id')\n",
        "#'id' quedó como flatante, vamos a pasarlo a int\n",
        "movies['id'] = movies['id'].astype(int)\n",
        "#Revisaremos la nueva distribución de los datos\n",
        "movies.shape"
      ]
    },
    {
      "cell_type": "markdown",
      "source": [
        "### Se revisan los valores columna por columna, para verificar el estado de los datos. Se concluye que hay columnas con valores que pueden ser importantes dentro de un sistema complejo de datos. Se infiere que el valor de '***name***' de la mayoria de las columnas puede ser valioso. Así como extraer el nombre de los actores y diectores de cada pelicula.\n",
        "### Para ello se utilizará una clase llamada ***'magic'***, en esta clase almacenamos las principales funciones de extracción y transformación de datos que usaremos"
      ],
      "metadata": {
        "id": "CeFULWyC7KMj"
      }
    },
    {
      "cell_type": "code",
      "source": [
        "class magic:\n",
        "    '''Esta clase almacena funciones de transformación\n",
        "    y extracción de datos, aducuada para cada situción'''\n",
        "    @staticmethod\n",
        "    def transform_str(valor):\n",
        "      '''convierte el valor de entrada en\n",
        "       una cadena. Si el valor es una\n",
        "       lista o un diccionario, se convierte\n",
        "       en una cadena JSON. De lo contrario,\n",
        "       se convierte en una cadena normal .'''\n",
        "      if isinstance(valor, (list, dict)):\n",
        "        return json.dumps(valor)\n",
        "      return str(valor)\n",
        "\n",
        "    @staticmethod\n",
        "    def extract_name(valor):\n",
        "      '''extrae el valor del nombre de una\n",
        "       cadena de entrada. La función utiliza\n",
        "       una expresión regular para buscar el\n",
        "       patrón 'name': '([^']*)' en la cadena\n",
        "       de entrada. Si se encuentra una coincidencia,\n",
        "       se devuelve el valor del nombre. sino devuelve None'''\n",
        "      pattern = r\"'name': '([^']*)'\"\n",
        "      matchpt = re.findall(pattern, valor)\n",
        "      if len(matchpt) > 0:\n",
        "        name = matchpt[0]\n",
        "        return name\n",
        "      else:\n",
        "        return None\n",
        "\n",
        "    def find_director(obj):\n",
        "      '''busca el nombre del director en una\n",
        "       cadena de entrada. Esta se convierte\n",
        "       en una lista de diccionarios con la función\n",
        "       ast.literal_eval(). Luego, busca el diccionario\n",
        "       que tiene el trabajo 'Director' y devuelve el\n",
        "       valor del nombre. Si no se encuentra un diccionario\n",
        "       con el trabajo 'Director', se devuelve una lista vacía '''\n",
        "      list_director = []\n",
        "      for i in ast.literal_eval(obj):\n",
        "        if i['job'] == 'Director':\n",
        "          list_director.append(i['name'])\n",
        "          break\n",
        "      return list_director\n",
        "\n",
        "\n",
        "    def get_actor (valor):\n",
        "      '''busca los nombres de los actores en una cadena de entrada.\n",
        "       La cadena de entrada se convierte en una lista de diccionarios\n",
        "       utilizando la función ast.literal_eval(). Luego, la función\n",
        "       agrega el valor del nombre del actor a una lista. La función\n",
        "       se detiene después de agregar los primeros nombres de actores\n",
        "       a la lista.'''\n",
        "      lista_cast = []\n",
        "      counter = 0\n",
        "      for i in ast.literal_eval(valor):\n",
        "        if counter != 4:\n",
        "          lista_cast.append(i['name'])\n",
        "          counter += 1\n",
        "        else:\n",
        "          break\n",
        "      return lista_cast\n",
        "\n",
        "    def transform_date(df, column_name):\n",
        "      '''Se utiliza una expresión regular para buscar el\n",
        "       patrón \"\\d{4}-\\d{2}-\\d{2}\" en la columna especificada.\n",
        "       Si se encuentra una coincidencia, se devuelve la fecha.\n",
        "       De lo contrario, se devuelve None.'''\n",
        "      pattern = r\"\\d{4}-\\d{2}-\\d{2}\"\n",
        "      df[column_name] = df[column_name].apply(lambda x: x if re.match(pattern, str(x)) else None)\n",
        "      return df[column_name]\n",
        "\n",
        "    def get_genres(valor):\n",
        "      '''busca los nombres de los géneros en una cadena de entrada.\n",
        "      La cadena de entrada se convierte en una lista de diccionarios\n",
        "      con la función ast.literal_eval(). Luego, la función agrega el\n",
        "      valor del nombre del género a una lista.'''\n",
        "      genres = [i['name'] for i in ast.literal_eval(valor)]\n",
        "      return genres\n",
        "\n"
      ],
      "metadata": {
        "id": "e45hlS3zrxfz"
      },
      "execution_count": 21,
      "outputs": []
    },
    {
      "cell_type": "markdown",
      "source": [
        "### De algunas columnas se necesita tan solo un valor, pero en otras se requiere una lista de valores, por eso se aplican las funciones de la clase ***'magic'*** a cada columna por separado, dependiendo de la estructura."
      ],
      "metadata": {
        "id": "TVER2U0ZAhcp"
      }
    },
    {
      "cell_type": "code",
      "execution_count": 22,
      "metadata": {
        "id": "p7_rl4S9JIlr"
      },
      "outputs": [],
      "source": [
        "#En esta celda se aplican las extracciones de los valores que se necesitan, de aquellas columnas con estructuras de datos complejas\n",
        "movies['name_colection'] = movies['belongs_to_collection'].apply(magic.transform_str).apply(magic.extract_name)\n",
        "\n",
        "movies['genres'] = movies['genres'].apply(magic.get_genres)\n",
        "\n",
        "movies['production_companies'] = movies['production_companies'].apply(magic.transform_str).apply(magic.extract_name)\n",
        "\n",
        "movies['production_countries'] = movies['production_countries'].apply(magic.transform_str).apply(magic.extract_name)\n",
        "\n",
        "movies['spoken_languages'] = movies['spoken_languages'].apply(magic.transform_str).apply(magic.extract_name)\n",
        "\n",
        "movies['actor'] = movies['cast'].apply(magic.get_actor)\n",
        "\n",
        "movies['director'] = movies['crew'].apply(magic.find_director)"
      ]
    },
    {
      "cell_type": "markdown",
      "source": [
        "### El dataframe ha quedado con 29 columnas, algunas con datos redundantes, al final del proceso de transformación se eliminarán las que no sean necesarias."
      ],
      "metadata": {
        "id": "WUTyA4SD_WuM"
      }
    },
    {
      "cell_type": "code",
      "source": [
        "movies.head(1)"
      ],
      "metadata": {
        "colab": {
          "base_uri": "https://localhost:8080/",
          "height": 296
        },
        "id": "8M4YknYjyk58",
        "outputId": "60157f32-d055-401f-aaa4-7a79a4003262"
      },
      "execution_count": 7,
      "outputs": [
        {
          "output_type": "execute_result",
          "data": {
            "text/plain": [
              "   adult                              belongs_to_collection    budget  \\\n",
              "0  False  {'id': 10194, 'name': 'Toy Story Collection', ...  30000000   \n",
              "\n",
              "                        genres                              homepage   id  \\\n",
              "0  [Animation, Comedy, Family]  http://toystory.disney.com/toy-story  862   \n",
              "\n",
              "     imdb_id original_language original_title  \\\n",
              "0  tt0114709                en      Toy Story   \n",
              "\n",
              "                                            overview  ... tagline      title  \\\n",
              "0  Led by Woody, Andy's toys live happily in his ...  ...     NaN  Toy Story   \n",
              "\n",
              "   video vote_average vote_count  \\\n",
              "0  False          7.7     5415.0   \n",
              "\n",
              "                                                cast  \\\n",
              "0  [{'cast_id': 14, 'character': 'Woody (voice)',...   \n",
              "\n",
              "                                                crew        name_colection  \\\n",
              "0  [{'credit_id': '52fe4284c3a36847f8024f49', 'de...  Toy Story Collection   \n",
              "\n",
              "                                             actor         director  \n",
              "0  [Tom Hanks, Tim Allen, Don Rickles, Jim Varney]  [John Lasseter]  \n",
              "\n",
              "[1 rows x 29 columns]"
            ],
            "text/html": [
              "\n",
              "  <div id=\"df-cca7bec2-7a31-47f2-83f0-19b4c110e0be\">\n",
              "    <div class=\"colab-df-container\">\n",
              "      <div>\n",
              "<style scoped>\n",
              "    .dataframe tbody tr th:only-of-type {\n",
              "        vertical-align: middle;\n",
              "    }\n",
              "\n",
              "    .dataframe tbody tr th {\n",
              "        vertical-align: top;\n",
              "    }\n",
              "\n",
              "    .dataframe thead th {\n",
              "        text-align: right;\n",
              "    }\n",
              "</style>\n",
              "<table border=\"1\" class=\"dataframe\">\n",
              "  <thead>\n",
              "    <tr style=\"text-align: right;\">\n",
              "      <th></th>\n",
              "      <th>adult</th>\n",
              "      <th>belongs_to_collection</th>\n",
              "      <th>budget</th>\n",
              "      <th>genres</th>\n",
              "      <th>homepage</th>\n",
              "      <th>id</th>\n",
              "      <th>imdb_id</th>\n",
              "      <th>original_language</th>\n",
              "      <th>original_title</th>\n",
              "      <th>overview</th>\n",
              "      <th>...</th>\n",
              "      <th>tagline</th>\n",
              "      <th>title</th>\n",
              "      <th>video</th>\n",
              "      <th>vote_average</th>\n",
              "      <th>vote_count</th>\n",
              "      <th>cast</th>\n",
              "      <th>crew</th>\n",
              "      <th>name_colection</th>\n",
              "      <th>actor</th>\n",
              "      <th>director</th>\n",
              "    </tr>\n",
              "  </thead>\n",
              "  <tbody>\n",
              "    <tr>\n",
              "      <th>0</th>\n",
              "      <td>False</td>\n",
              "      <td>{'id': 10194, 'name': 'Toy Story Collection', ...</td>\n",
              "      <td>30000000</td>\n",
              "      <td>[Animation, Comedy, Family]</td>\n",
              "      <td>http://toystory.disney.com/toy-story</td>\n",
              "      <td>862</td>\n",
              "      <td>tt0114709</td>\n",
              "      <td>en</td>\n",
              "      <td>Toy Story</td>\n",
              "      <td>Led by Woody, Andy's toys live happily in his ...</td>\n",
              "      <td>...</td>\n",
              "      <td>NaN</td>\n",
              "      <td>Toy Story</td>\n",
              "      <td>False</td>\n",
              "      <td>7.7</td>\n",
              "      <td>5415.0</td>\n",
              "      <td>[{'cast_id': 14, 'character': 'Woody (voice)',...</td>\n",
              "      <td>[{'credit_id': '52fe4284c3a36847f8024f49', 'de...</td>\n",
              "      <td>Toy Story Collection</td>\n",
              "      <td>[Tom Hanks, Tim Allen, Don Rickles, Jim Varney]</td>\n",
              "      <td>[John Lasseter]</td>\n",
              "    </tr>\n",
              "  </tbody>\n",
              "</table>\n",
              "<p>1 rows × 29 columns</p>\n",
              "</div>\n",
              "      <button class=\"colab-df-convert\" onclick=\"convertToInteractive('df-cca7bec2-7a31-47f2-83f0-19b4c110e0be')\"\n",
              "              title=\"Convert this dataframe to an interactive table.\"\n",
              "              style=\"display:none;\">\n",
              "        \n",
              "  <svg xmlns=\"http://www.w3.org/2000/svg\" height=\"24px\"viewBox=\"0 0 24 24\"\n",
              "       width=\"24px\">\n",
              "    <path d=\"M0 0h24v24H0V0z\" fill=\"none\"/>\n",
              "    <path d=\"M18.56 5.44l.94 2.06.94-2.06 2.06-.94-2.06-.94-.94-2.06-.94 2.06-2.06.94zm-11 1L8.5 8.5l.94-2.06 2.06-.94-2.06-.94L8.5 2.5l-.94 2.06-2.06.94zm10 10l.94 2.06.94-2.06 2.06-.94-2.06-.94-.94-2.06-.94 2.06-2.06.94z\"/><path d=\"M17.41 7.96l-1.37-1.37c-.4-.4-.92-.59-1.43-.59-.52 0-1.04.2-1.43.59L10.3 9.45l-7.72 7.72c-.78.78-.78 2.05 0 2.83L4 21.41c.39.39.9.59 1.41.59.51 0 1.02-.2 1.41-.59l7.78-7.78 2.81-2.81c.8-.78.8-2.07 0-2.86zM5.41 20L4 18.59l7.72-7.72 1.47 1.35L5.41 20z\"/>\n",
              "  </svg>\n",
              "      </button>\n",
              "      \n",
              "  <style>\n",
              "    .colab-df-container {\n",
              "      display:flex;\n",
              "      flex-wrap:wrap;\n",
              "      gap: 12px;\n",
              "    }\n",
              "\n",
              "    .colab-df-convert {\n",
              "      background-color: #E8F0FE;\n",
              "      border: none;\n",
              "      border-radius: 50%;\n",
              "      cursor: pointer;\n",
              "      display: none;\n",
              "      fill: #1967D2;\n",
              "      height: 32px;\n",
              "      padding: 0 0 0 0;\n",
              "      width: 32px;\n",
              "    }\n",
              "\n",
              "    .colab-df-convert:hover {\n",
              "      background-color: #E2EBFA;\n",
              "      box-shadow: 0px 1px 2px rgba(60, 64, 67, 0.3), 0px 1px 3px 1px rgba(60, 64, 67, 0.15);\n",
              "      fill: #174EA6;\n",
              "    }\n",
              "\n",
              "    [theme=dark] .colab-df-convert {\n",
              "      background-color: #3B4455;\n",
              "      fill: #D2E3FC;\n",
              "    }\n",
              "\n",
              "    [theme=dark] .colab-df-convert:hover {\n",
              "      background-color: #434B5C;\n",
              "      box-shadow: 0px 1px 3px 1px rgba(0, 0, 0, 0.15);\n",
              "      filter: drop-shadow(0px 1px 2px rgba(0, 0, 0, 0.3));\n",
              "      fill: #FFFFFF;\n",
              "    }\n",
              "  </style>\n",
              "\n",
              "      <script>\n",
              "        const buttonEl =\n",
              "          document.querySelector('#df-cca7bec2-7a31-47f2-83f0-19b4c110e0be button.colab-df-convert');\n",
              "        buttonEl.style.display =\n",
              "          google.colab.kernel.accessAllowed ? 'block' : 'none';\n",
              "\n",
              "        async function convertToInteractive(key) {\n",
              "          const element = document.querySelector('#df-cca7bec2-7a31-47f2-83f0-19b4c110e0be');\n",
              "          const dataTable =\n",
              "            await google.colab.kernel.invokeFunction('convertToInteractive',\n",
              "                                                     [key], {});\n",
              "          if (!dataTable) return;\n",
              "\n",
              "          const docLinkHtml = 'Like what you see? Visit the ' +\n",
              "            '<a target=\"_blank\" href=https://colab.research.google.com/notebooks/data_table.ipynb>data table notebook</a>'\n",
              "            + ' to learn more about interactive tables.';\n",
              "          element.innerHTML = '';\n",
              "          dataTable['output_type'] = 'display_data';\n",
              "          await google.colab.output.renderOutput(dataTable, element);\n",
              "          const docLink = document.createElement('div');\n",
              "          docLink.innerHTML = docLinkHtml;\n",
              "          element.appendChild(docLink);\n",
              "        }\n",
              "      </script>\n",
              "    </div>\n",
              "  </div>\n",
              "  "
            ]
          },
          "metadata": {},
          "execution_count": 7
        }
      ]
    },
    {
      "cell_type": "markdown",
      "source": [
        "### En el enunciado se pide imputar el valor de ***0*** donde existan los valores nulos en las columnas ***'budget'*** y ***'revenue'***. Y posteriormente realizar una operación matemática entre ellos."
      ],
      "metadata": {
        "id": "Yfyvd3qHAoGV"
      }
    },
    {
      "cell_type": "code",
      "execution_count": 23,
      "metadata": {
        "colab": {
          "base_uri": "https://localhost:8080/"
        },
        "id": "coj3S2eArZw2",
        "outputId": "d553f0cb-4ed0-458f-fa57-4c78d0a0ad0d"
      },
      "outputs": [
        {
          "output_type": "stream",
          "name": "stdout",
          "text": [
            "3\n",
            "0\n"
          ]
        }
      ],
      "source": [
        "#Se verifican los campos con la cantidad de valores nulos\n",
        "print(movies['revenue'].isnull().sum())\n",
        "print(movies['budget'].isnull().sum())"
      ]
    },
    {
      "cell_type": "code",
      "execution_count": 25,
      "metadata": {
        "id": "AzO6xW8Art-Y"
      },
      "outputs": [],
      "source": [
        "#Se coloca el valor de 0 donde hay valores nulos con la función '.fillna()'\n",
        "movies['revenue'].fillna(0, inplace=True)\n",
        "movies['budget'].fillna(0, inplace=True)"
      ]
    },
    {
      "cell_type": "markdown",
      "source": [
        "### Tal y como es solicitado se procederá a crear la columna ***'return'***, dividiendo ***'revenue'*** / ***'budget'***, cuando no hay datos disponibles para calcularlo, deberá tomar el valor ***0***."
      ],
      "metadata": {
        "id": "gqN_oQ8uCP6j"
      }
    },
    {
      "cell_type": "code",
      "execution_count": 26,
      "metadata": {
        "colab": {
          "base_uri": "https://localhost:8080/"
        },
        "id": "0jx7nk5UqeLj",
        "outputId": "1c35ebaa-6696-4b97-8756-f1adbfc0a7db"
      },
      "outputs": [
        {
          "output_type": "stream",
          "name": "stdout",
          "text": [
            "float64\n",
            "object\n"
          ]
        }
      ],
      "source": [
        "#Primero se verifican los tipos de datos, para saber si la operación puede ser factible\n",
        "print(movies['revenue'].dtypes)\n",
        "print(movies['budget'].dtypes)"
      ]
    },
    {
      "cell_type": "code",
      "execution_count": 27,
      "metadata": {
        "id": "E1kC1-rcqcgs"
      },
      "outputs": [],
      "source": [
        "#Se transforma la columna budget a valor numérico\n",
        "movies['budget'] = pd.to_numeric(movies['budget'], errors='coerce')\n",
        "\n",
        "#Creamos la columna 'return'\n",
        "movies['return'] = movies['revenue']/movies['budget']\n",
        "\n",
        "#Donde no se haya podido realizar la operación se imputa el valor de 0\n",
        "movies['return'].fillna(0, inplace=True)"
      ]
    },
    {
      "cell_type": "markdown",
      "source": [
        "### Ahora se transformará la columna de ***'release_date'*** para que tenga el formato AAAA-mm-dd."
      ],
      "metadata": {
        "id": "bc07Vnz8NQAG"
      }
    },
    {
      "cell_type": "code",
      "execution_count": 28,
      "metadata": {
        "id": "JGYVyaEtaP5z"
      },
      "outputs": [],
      "source": [
        "#transformaremos los datos de de columna 'release_date' utilizando la función 'transform_date' de la clase creada magic\n",
        "movies['release_date'] = magic.transform_date(movies, 'release_date')\n",
        "\n",
        "#Eliminamos los valores faltantes de release_date\n",
        "movies.dropna(subset=['release_date'],inplace=True)"
      ]
    },
    {
      "cell_type": "markdown",
      "source": [
        "### Se creará la columna ***'release_year'*** a partir de extraer el año de la columna ***'release_date'***. Pero antes se deberá transformar la columna a formato datetime."
      ],
      "metadata": {
        "id": "IH0lYfehVcD7"
      }
    },
    {
      "cell_type": "code",
      "execution_count": 29,
      "metadata": {
        "id": "QLx4g8S0hJ5l"
      },
      "outputs": [],
      "source": [
        "#Aplicamos la transformación de la columna 'release_date'\n",
        "movies['release_date'] = pd.to_datetime(movies['release_date'])\n",
        "\n",
        "#Creamos la columna 'release_year'\n",
        "movies['release_year'] = movies['release_date'].dt.strftime('%Y')"
      ]
    },
    {
      "cell_type": "markdown",
      "source": [
        "### A este punto se borrara las columnas que no serán necesarias para los siguientes pasos."
      ],
      "metadata": {
        "id": "tA4Y9TqGW8BH"
      }
    },
    {
      "cell_type": "code",
      "execution_count": 30,
      "metadata": {
        "id": "LplzdPS_u5-F"
      },
      "outputs": [],
      "source": [
        "movies = movies.drop(columns=['video','imdb_id','adult','original_title','poster_path','homepage','belongs_to_collection','cast','crew', 'runtime','original_language','production_companies','production_countries','spoken_languages','name_colection',], axis=1)"
      ]
    },
    {
      "cell_type": "code",
      "execution_count": 31,
      "metadata": {
        "colab": {
          "base_uri": "https://localhost:8080/"
        },
        "id": "7lOP3qqFwmVG",
        "outputId": "5b7a04e1-8d16-43cc-a3f9-b12326a01cda"
      },
      "outputs": [
        {
          "output_type": "stream",
          "name": "stdout",
          "text": [
            "<class 'pandas.core.frame.DataFrame'>\n",
            "Int64Index: 45451 entries, 0 to 45537\n",
            "Data columns (total 16 columns):\n",
            " #   Column        Non-Null Count  Dtype         \n",
            "---  ------        --------------  -----         \n",
            " 0   budget        45451 non-null  int64         \n",
            " 1   genres        45451 non-null  object        \n",
            " 2   id            45451 non-null  int64         \n",
            " 3   overview      44510 non-null  object        \n",
            " 4   popularity    45451 non-null  object        \n",
            " 5   release_date  45451 non-null  datetime64[ns]\n",
            " 6   revenue       45451 non-null  float64       \n",
            " 7   status        45371 non-null  object        \n",
            " 8   tagline       20425 non-null  object        \n",
            " 9   title         45451 non-null  object        \n",
            " 10  vote_average  45451 non-null  float64       \n",
            " 11  vote_count    45451 non-null  float64       \n",
            " 12  actor         45451 non-null  object        \n",
            " 13  director      45451 non-null  object        \n",
            " 14  return        45451 non-null  float64       \n",
            " 15  release_year  45451 non-null  object        \n",
            "dtypes: datetime64[ns](1), float64(4), int64(2), object(9)\n",
            "memory usage: 5.9+ MB\n"
          ]
        }
      ],
      "source": [
        "movies.info()"
      ]
    },
    {
      "cell_type": "markdown",
      "source": [
        "### A este punto se hace una revisión de los valores duplicados, considerando el valor de la columna ***'id'***, pueden haber películas con el titulos y mismos actores, pero deberían tener un numero de identificación distinto, si se tratan de distintas películas."
      ],
      "metadata": {
        "id": "svqqFLnT_2dV"
      }
    },
    {
      "cell_type": "code",
      "source": [
        "movies.loc[movies.duplicated(subset=['id'])].head(5)"
      ],
      "metadata": {
        "colab": {
          "base_uri": "https://localhost:8080/",
          "height": 598
        },
        "id": "_gtxQyEj-xJx",
        "outputId": "9a8a123e-d60f-4b26-f812-5f4cd856c163"
      },
      "execution_count": 32,
      "outputs": [
        {
          "output_type": "execute_result",
          "data": {
            "text/plain": [
              "     budget            genres      id  \\\n",
              "677       0  [Drama, Romance]  105045   \n",
              "678       0  [Drama, Romance]  105045   \n",
              "679       0  [Drama, Romance]  105045   \n",
              "842       0           [Drama]  132641   \n",
              "843       0           [Drama]  132641   \n",
              "\n",
              "                                              overview popularity  \\\n",
              "677  East-Berlin, 1961, shortly after the erection ...   0.122178   \n",
              "678  East-Berlin, 1961, shortly after the erection ...   0.122178   \n",
              "679  East-Berlin, 1961, shortly after the erection ...   0.122178   \n",
              "842  Ten years into a marriage, the wife is disappo...   0.096079   \n",
              "843  Ten years into a marriage, the wife is disappo...   0.619388   \n",
              "\n",
              "    release_date  revenue    status                  tagline        title  \\\n",
              "677   1995-02-16      0.0  Released  A love, a hope, a wall.  The Promise   \n",
              "678   1995-02-16      0.0  Released  A love, a hope, a wall.  The Promise   \n",
              "679   1995-02-16      0.0  Released  A love, a hope, a wall.  The Promise   \n",
              "842   1953-04-29      0.0  Released                      NaN         Wife   \n",
              "843   1953-04-29      0.0  Released                      NaN         Wife   \n",
              "\n",
              "     vote_average  vote_count  \\\n",
              "677           5.0         1.0   \n",
              "678           5.0         1.0   \n",
              "679           5.0         1.0   \n",
              "842           0.0         0.0   \n",
              "843           0.0         0.0   \n",
              "\n",
              "                                                 actor  \\\n",
              "677  [Corinna Harfouch, Meret Becker, August Zirner...   \n",
              "678  [Corinna Harfouch, Meret Becker, August Zirner...   \n",
              "679  [Corinna Harfouch, Meret Becker, August Zirner...   \n",
              "842  [Mieko Takamine, Ken Uehara, Rentarô Mikuni, M...   \n",
              "843  [Mieko Takamine, Ken Uehara, Rentarô Mikuni, M...   \n",
              "\n",
              "                    director  return release_year  \n",
              "677  [Margarethe von Trotta]     0.0         1995  \n",
              "678  [Margarethe von Trotta]     0.0         1995  \n",
              "679  [Margarethe von Trotta]     0.0         1995  \n",
              "842           [Mikio Naruse]     0.0         1953  \n",
              "843           [Mikio Naruse]     0.0         1953  "
            ],
            "text/html": [
              "\n",
              "  <div id=\"df-6f2d6bd3-b12c-45ba-a8ba-682914a1160d\">\n",
              "    <div class=\"colab-df-container\">\n",
              "      <div>\n",
              "<style scoped>\n",
              "    .dataframe tbody tr th:only-of-type {\n",
              "        vertical-align: middle;\n",
              "    }\n",
              "\n",
              "    .dataframe tbody tr th {\n",
              "        vertical-align: top;\n",
              "    }\n",
              "\n",
              "    .dataframe thead th {\n",
              "        text-align: right;\n",
              "    }\n",
              "</style>\n",
              "<table border=\"1\" class=\"dataframe\">\n",
              "  <thead>\n",
              "    <tr style=\"text-align: right;\">\n",
              "      <th></th>\n",
              "      <th>budget</th>\n",
              "      <th>genres</th>\n",
              "      <th>id</th>\n",
              "      <th>overview</th>\n",
              "      <th>popularity</th>\n",
              "      <th>release_date</th>\n",
              "      <th>revenue</th>\n",
              "      <th>status</th>\n",
              "      <th>tagline</th>\n",
              "      <th>title</th>\n",
              "      <th>vote_average</th>\n",
              "      <th>vote_count</th>\n",
              "      <th>actor</th>\n",
              "      <th>director</th>\n",
              "      <th>return</th>\n",
              "      <th>release_year</th>\n",
              "    </tr>\n",
              "  </thead>\n",
              "  <tbody>\n",
              "    <tr>\n",
              "      <th>677</th>\n",
              "      <td>0</td>\n",
              "      <td>[Drama, Romance]</td>\n",
              "      <td>105045</td>\n",
              "      <td>East-Berlin, 1961, shortly after the erection ...</td>\n",
              "      <td>0.122178</td>\n",
              "      <td>1995-02-16</td>\n",
              "      <td>0.0</td>\n",
              "      <td>Released</td>\n",
              "      <td>A love, a hope, a wall.</td>\n",
              "      <td>The Promise</td>\n",
              "      <td>5.0</td>\n",
              "      <td>1.0</td>\n",
              "      <td>[Corinna Harfouch, Meret Becker, August Zirner...</td>\n",
              "      <td>[Margarethe von Trotta]</td>\n",
              "      <td>0.0</td>\n",
              "      <td>1995</td>\n",
              "    </tr>\n",
              "    <tr>\n",
              "      <th>678</th>\n",
              "      <td>0</td>\n",
              "      <td>[Drama, Romance]</td>\n",
              "      <td>105045</td>\n",
              "      <td>East-Berlin, 1961, shortly after the erection ...</td>\n",
              "      <td>0.122178</td>\n",
              "      <td>1995-02-16</td>\n",
              "      <td>0.0</td>\n",
              "      <td>Released</td>\n",
              "      <td>A love, a hope, a wall.</td>\n",
              "      <td>The Promise</td>\n",
              "      <td>5.0</td>\n",
              "      <td>1.0</td>\n",
              "      <td>[Corinna Harfouch, Meret Becker, August Zirner...</td>\n",
              "      <td>[Margarethe von Trotta]</td>\n",
              "      <td>0.0</td>\n",
              "      <td>1995</td>\n",
              "    </tr>\n",
              "    <tr>\n",
              "      <th>679</th>\n",
              "      <td>0</td>\n",
              "      <td>[Drama, Romance]</td>\n",
              "      <td>105045</td>\n",
              "      <td>East-Berlin, 1961, shortly after the erection ...</td>\n",
              "      <td>0.122178</td>\n",
              "      <td>1995-02-16</td>\n",
              "      <td>0.0</td>\n",
              "      <td>Released</td>\n",
              "      <td>A love, a hope, a wall.</td>\n",
              "      <td>The Promise</td>\n",
              "      <td>5.0</td>\n",
              "      <td>1.0</td>\n",
              "      <td>[Corinna Harfouch, Meret Becker, August Zirner...</td>\n",
              "      <td>[Margarethe von Trotta]</td>\n",
              "      <td>0.0</td>\n",
              "      <td>1995</td>\n",
              "    </tr>\n",
              "    <tr>\n",
              "      <th>842</th>\n",
              "      <td>0</td>\n",
              "      <td>[Drama]</td>\n",
              "      <td>132641</td>\n",
              "      <td>Ten years into a marriage, the wife is disappo...</td>\n",
              "      <td>0.096079</td>\n",
              "      <td>1953-04-29</td>\n",
              "      <td>0.0</td>\n",
              "      <td>Released</td>\n",
              "      <td>NaN</td>\n",
              "      <td>Wife</td>\n",
              "      <td>0.0</td>\n",
              "      <td>0.0</td>\n",
              "      <td>[Mieko Takamine, Ken Uehara, Rentarô Mikuni, M...</td>\n",
              "      <td>[Mikio Naruse]</td>\n",
              "      <td>0.0</td>\n",
              "      <td>1953</td>\n",
              "    </tr>\n",
              "    <tr>\n",
              "      <th>843</th>\n",
              "      <td>0</td>\n",
              "      <td>[Drama]</td>\n",
              "      <td>132641</td>\n",
              "      <td>Ten years into a marriage, the wife is disappo...</td>\n",
              "      <td>0.619388</td>\n",
              "      <td>1953-04-29</td>\n",
              "      <td>0.0</td>\n",
              "      <td>Released</td>\n",
              "      <td>NaN</td>\n",
              "      <td>Wife</td>\n",
              "      <td>0.0</td>\n",
              "      <td>0.0</td>\n",
              "      <td>[Mieko Takamine, Ken Uehara, Rentarô Mikuni, M...</td>\n",
              "      <td>[Mikio Naruse]</td>\n",
              "      <td>0.0</td>\n",
              "      <td>1953</td>\n",
              "    </tr>\n",
              "  </tbody>\n",
              "</table>\n",
              "</div>\n",
              "      <button class=\"colab-df-convert\" onclick=\"convertToInteractive('df-6f2d6bd3-b12c-45ba-a8ba-682914a1160d')\"\n",
              "              title=\"Convert this dataframe to an interactive table.\"\n",
              "              style=\"display:none;\">\n",
              "        \n",
              "  <svg xmlns=\"http://www.w3.org/2000/svg\" height=\"24px\"viewBox=\"0 0 24 24\"\n",
              "       width=\"24px\">\n",
              "    <path d=\"M0 0h24v24H0V0z\" fill=\"none\"/>\n",
              "    <path d=\"M18.56 5.44l.94 2.06.94-2.06 2.06-.94-2.06-.94-.94-2.06-.94 2.06-2.06.94zm-11 1L8.5 8.5l.94-2.06 2.06-.94-2.06-.94L8.5 2.5l-.94 2.06-2.06.94zm10 10l.94 2.06.94-2.06 2.06-.94-2.06-.94-.94-2.06-.94 2.06-2.06.94z\"/><path d=\"M17.41 7.96l-1.37-1.37c-.4-.4-.92-.59-1.43-.59-.52 0-1.04.2-1.43.59L10.3 9.45l-7.72 7.72c-.78.78-.78 2.05 0 2.83L4 21.41c.39.39.9.59 1.41.59.51 0 1.02-.2 1.41-.59l7.78-7.78 2.81-2.81c.8-.78.8-2.07 0-2.86zM5.41 20L4 18.59l7.72-7.72 1.47 1.35L5.41 20z\"/>\n",
              "  </svg>\n",
              "      </button>\n",
              "      \n",
              "  <style>\n",
              "    .colab-df-container {\n",
              "      display:flex;\n",
              "      flex-wrap:wrap;\n",
              "      gap: 12px;\n",
              "    }\n",
              "\n",
              "    .colab-df-convert {\n",
              "      background-color: #E8F0FE;\n",
              "      border: none;\n",
              "      border-radius: 50%;\n",
              "      cursor: pointer;\n",
              "      display: none;\n",
              "      fill: #1967D2;\n",
              "      height: 32px;\n",
              "      padding: 0 0 0 0;\n",
              "      width: 32px;\n",
              "    }\n",
              "\n",
              "    .colab-df-convert:hover {\n",
              "      background-color: #E2EBFA;\n",
              "      box-shadow: 0px 1px 2px rgba(60, 64, 67, 0.3), 0px 1px 3px 1px rgba(60, 64, 67, 0.15);\n",
              "      fill: #174EA6;\n",
              "    }\n",
              "\n",
              "    [theme=dark] .colab-df-convert {\n",
              "      background-color: #3B4455;\n",
              "      fill: #D2E3FC;\n",
              "    }\n",
              "\n",
              "    [theme=dark] .colab-df-convert:hover {\n",
              "      background-color: #434B5C;\n",
              "      box-shadow: 0px 1px 3px 1px rgba(0, 0, 0, 0.15);\n",
              "      filter: drop-shadow(0px 1px 2px rgba(0, 0, 0, 0.3));\n",
              "      fill: #FFFFFF;\n",
              "    }\n",
              "  </style>\n",
              "\n",
              "      <script>\n",
              "        const buttonEl =\n",
              "          document.querySelector('#df-6f2d6bd3-b12c-45ba-a8ba-682914a1160d button.colab-df-convert');\n",
              "        buttonEl.style.display =\n",
              "          google.colab.kernel.accessAllowed ? 'block' : 'none';\n",
              "\n",
              "        async function convertToInteractive(key) {\n",
              "          const element = document.querySelector('#df-6f2d6bd3-b12c-45ba-a8ba-682914a1160d');\n",
              "          const dataTable =\n",
              "            await google.colab.kernel.invokeFunction('convertToInteractive',\n",
              "                                                     [key], {});\n",
              "          if (!dataTable) return;\n",
              "\n",
              "          const docLinkHtml = 'Like what you see? Visit the ' +\n",
              "            '<a target=\"_blank\" href=https://colab.research.google.com/notebooks/data_table.ipynb>data table notebook</a>'\n",
              "            + ' to learn more about interactive tables.';\n",
              "          element.innerHTML = '';\n",
              "          dataTable['output_type'] = 'display_data';\n",
              "          await google.colab.output.renderOutput(dataTable, element);\n",
              "          const docLink = document.createElement('div');\n",
              "          docLink.innerHTML = docLinkHtml;\n",
              "          element.appendChild(docLink);\n",
              "        }\n",
              "      </script>\n",
              "    </div>\n",
              "  </div>\n",
              "  "
            ]
          },
          "metadata": {},
          "execution_count": 32
        }
      ]
    },
    {
      "cell_type": "markdown",
      "source": [
        "### En esta ocasión nos quedamos con el dataframe sin valores duplicados, reseteando el índice y borrando el anterior"
      ],
      "metadata": {
        "id": "DsgOrLVyC0aP"
      }
    },
    {
      "cell_type": "code",
      "source": [
        "#De esta manera el dataframe conservará solo los valores únicos, filtrado por 'id'\n",
        "movies = movies.loc[~movies.duplicated(subset=['id'])]\\\n",
        ".reset_index(drop=True)"
      ],
      "metadata": {
        "id": "uH4xx0y0AShW"
      },
      "execution_count": 17,
      "outputs": []
    },
    {
      "cell_type": "markdown",
      "source": [
        "### Con estas 16 columnas el dataframe está casi listo para empezar a trabajar con él.\n",
        "\n",
        "## Se Creará la columna ***'tag'***\n",
        "### Corresponde fusionar las columnas con datos identificativos de cada pelicula y agregar esos valores en una sola columna, eso no solo reducirá la dimensión del dataframe sino que será importante al momento de crear el modelo de recomendación.\n",
        "### Antes se deberá crear un dataframe provisorio con las columnas a utilizar"
      ],
      "metadata": {
        "id": "3O6wp6RUXotb"
      }
    },
    {
      "cell_type": "code",
      "source": [
        "#Creamos un dataframe con las columnas que nutriran nuestra columna 'tag' mas adelante\n",
        "mvs = movies[['id','title','overview','genres','tagline','actor','director']]\n",
        "mvs.info()"
      ],
      "metadata": {
        "id": "E133jC8eaYA_",
        "colab": {
          "base_uri": "https://localhost:8080/"
        },
        "outputId": "cd232e12-3add-4180-abad-f7b98a23e39b"
      },
      "execution_count": 33,
      "outputs": [
        {
          "output_type": "stream",
          "name": "stdout",
          "text": [
            "<class 'pandas.core.frame.DataFrame'>\n",
            "Int64Index: 45451 entries, 0 to 45537\n",
            "Data columns (total 7 columns):\n",
            " #   Column    Non-Null Count  Dtype \n",
            "---  ------    --------------  ----- \n",
            " 0   id        45451 non-null  int64 \n",
            " 1   title     45451 non-null  object\n",
            " 2   overview  44510 non-null  object\n",
            " 3   genres    45451 non-null  object\n",
            " 4   tagline   20425 non-null  object\n",
            " 5   actor     45451 non-null  object\n",
            " 6   director  45451 non-null  object\n",
            "dtypes: int64(1), object(6)\n",
            "memory usage: 2.8+ MB\n"
          ]
        }
      ]
    },
    {
      "cell_type": "markdown",
      "source": [
        "### Algunos nombres de actores pueden ser iguales, por ejemplo *'Tom Cruise'*, *'Tom Hanks'* y *'Tom Holland'*. Son actores distintos y los tre se llaman *'Tom'*, para diferenciarlos, retiramos el espacio, y así ya *'TomCruise'* y *'TomHolland'* serán distintos al momento de ser procesados."
      ],
      "metadata": {
        "id": "LP59r3hvBylJ"
      }
    },
    {
      "cell_type": "code",
      "source": [
        "#Con la función Lambda se recorre cada lista en busca de un espacio y une las palabras de cada columna.\n",
        "mvs['genres'] = mvs['genres'].apply(lambda x: [i.replace(\" \", \"\") for i in x])\n",
        "mvs['actor'] = mvs['actor'].apply(lambda x: [i.replace(\" \", \"\") for i in x])\n",
        "mvs['director'] = mvs['director'].apply(lambda x: [i.replace(\" \", \"\") for i in x])"
      ],
      "metadata": {
        "colab": {
          "base_uri": "https://localhost:8080/"
        },
        "id": "alv0gi5bWk90",
        "outputId": "a74c64bd-f840-42e3-fe83-9ea8b83dbd78"
      },
      "execution_count": 34,
      "outputs": [
        {
          "output_type": "stream",
          "name": "stderr",
          "text": [
            "<ipython-input-34-1fa12ebf7eb3>:2: SettingWithCopyWarning: \n",
            "A value is trying to be set on a copy of a slice from a DataFrame.\n",
            "Try using .loc[row_indexer,col_indexer] = value instead\n",
            "\n",
            "See the caveats in the documentation: https://pandas.pydata.org/pandas-docs/stable/user_guide/indexing.html#returning-a-view-versus-a-copy\n",
            "  mvs['genres'] = mvs['genres'].apply(lambda x: [i.replace(\" \", \"\") for i in x])\n",
            "<ipython-input-34-1fa12ebf7eb3>:3: SettingWithCopyWarning: \n",
            "A value is trying to be set on a copy of a slice from a DataFrame.\n",
            "Try using .loc[row_indexer,col_indexer] = value instead\n",
            "\n",
            "See the caveats in the documentation: https://pandas.pydata.org/pandas-docs/stable/user_guide/indexing.html#returning-a-view-versus-a-copy\n",
            "  mvs['actor'] = mvs['actor'].apply(lambda x: [i.replace(\" \", \"\") for i in x])\n",
            "<ipython-input-34-1fa12ebf7eb3>:4: SettingWithCopyWarning: \n",
            "A value is trying to be set on a copy of a slice from a DataFrame.\n",
            "Try using .loc[row_indexer,col_indexer] = value instead\n",
            "\n",
            "See the caveats in the documentation: https://pandas.pydata.org/pandas-docs/stable/user_guide/indexing.html#returning-a-view-versus-a-copy\n",
            "  mvs['director'] = mvs['director'].apply(lambda x: [i.replace(\" \", \"\") for i in x])\n"
          ]
        }
      ]
    },
    {
      "cell_type": "markdown",
      "source": [
        "### Para poder concatenar las columnas y crear la columna ***'tag'***, es importante considerar que tienen distintos tipos de datos, por lo que se procede a transformarlas todas a una cadena de texto. Luego se reemplazan los valores nulos por  una \" ***,*** \" de esta forma no afectará tanto cuando se necesite concatenar las columnas."
      ],
      "metadata": {
        "id": "VhXXG5mpE46k"
      }
    },
    {
      "cell_type": "code",
      "source": [
        "#Con la función 'applymap' transformamos todo los valores del dataframe a string.\n",
        "mvs = mvs.applymap(str)\n",
        "mvs.fillna(',', inplace=True)"
      ],
      "metadata": {
        "id": "5U9smhXkjumR"
      },
      "execution_count": 35,
      "outputs": []
    },
    {
      "cell_type": "markdown",
      "source": [
        "### Una vez aplicadas las transformaciones necesarias, se puede proceder a concatenar todas las columnas y crear la columna ***'tag'***."
      ],
      "metadata": {
        "id": "5onkj81WG6Z7"
      }
    },
    {
      "cell_type": "code",
      "source": [
        "mvs['tag'] = mvs['overview'] + mvs['tagline'] + mvs['genres'] +  mvs['actor'] + mvs['director']\n",
        "mvs['tag'][0]"
      ],
      "metadata": {
        "colab": {
          "base_uri": "https://localhost:8080/",
          "height": 70
        },
        "id": "phMerUKLdJQn",
        "outputId": "254bfb86-f940-467a-f0a0-fd5bd5dfc8c5"
      },
      "execution_count": 36,
      "outputs": [
        {
          "output_type": "execute_result",
          "data": {
            "text/plain": [
              "\"Led by Woody, Andy's toys live happily in his room until Andy's birthday brings Buzz Lightyear onto the scene. Afraid of losing his place in Andy's heart, Woody plots against Buzz. But when circumstances separate Buzz and Woody from their owner, the duo eventually learns to put aside their differences.nan['Animation', 'Comedy', 'Family']['TomHanks', 'TimAllen', 'DonRickles', 'JimVarney']['JohnLasseter']\""
            ],
            "application/vnd.google.colaboratory.intrinsic+json": {
              "type": "string"
            }
          },
          "metadata": {},
          "execution_count": 36
        }
      ]
    },
    {
      "cell_type": "markdown",
      "source": [
        "### Al crear la columna 'tag', quedan algunos simbolos que pueden causar problemas mas adelante, por lo cual se reemplaza, dejando el texto con cierta apariencia normal, pero con todos los valores allí. Así mismo por se transforman caracteres de Mayúscula a minúscula."
      ],
      "metadata": {
        "id": "wJkK2s7OHVxD"
      }
    },
    {
      "cell_type": "markdown",
      "source": [
        "### Una vez que la columna 'tag' ha quedado lista, se puede agregar al dataframe original."
      ],
      "metadata": {
        "id": "t5p9saYLIdbo"
      }
    },
    {
      "cell_type": "code",
      "source": [
        "movies['tag'] = mvs[['tag']]\n",
        "movies.info()"
      ],
      "metadata": {
        "colab": {
          "base_uri": "https://localhost:8080/"
        },
        "id": "4h-42hHn09zO",
        "outputId": "0e1bf352-744a-4aa0-ac45-bce166a7b4c7"
      },
      "execution_count": 37,
      "outputs": [
        {
          "output_type": "stream",
          "name": "stdout",
          "text": [
            "<class 'pandas.core.frame.DataFrame'>\n",
            "Int64Index: 45451 entries, 0 to 45537\n",
            "Data columns (total 17 columns):\n",
            " #   Column        Non-Null Count  Dtype         \n",
            "---  ------        --------------  -----         \n",
            " 0   budget        45451 non-null  int64         \n",
            " 1   genres        45451 non-null  object        \n",
            " 2   id            45451 non-null  int64         \n",
            " 3   overview      44510 non-null  object        \n",
            " 4   popularity    45451 non-null  object        \n",
            " 5   release_date  45451 non-null  datetime64[ns]\n",
            " 6   revenue       45451 non-null  float64       \n",
            " 7   status        45371 non-null  object        \n",
            " 8   tagline       20425 non-null  object        \n",
            " 9   title         45451 non-null  object        \n",
            " 10  vote_average  45451 non-null  float64       \n",
            " 11  vote_count    45451 non-null  float64       \n",
            " 12  actor         45451 non-null  object        \n",
            " 13  director      45451 non-null  object        \n",
            " 14  return        45451 non-null  float64       \n",
            " 15  release_year  45451 non-null  object        \n",
            " 16  tag           45451 non-null  object        \n",
            "dtypes: datetime64[ns](1), float64(4), int64(2), object(10)\n",
            "memory usage: 7.2+ MB\n"
          ]
        }
      ]
    },
    {
      "cell_type": "markdown",
      "source": [
        "### Ahora procedemos a extrar de la lista en el que se encontraban los valores de la columna ***'director'***."
      ],
      "metadata": {
        "id": "dtZ1G_WyMiQx"
      }
    },
    {
      "cell_type": "code",
      "source": [
        "movies['director'] = movies['director'].apply(lambda x: x[0] if len(x) > 0 else None)"
      ],
      "metadata": {
        "id": "24kmeNkMDLv6"
      },
      "execution_count": 38,
      "outputs": []
    },
    {
      "cell_type": "markdown",
      "source": [
        "### Ahora si se pueden eliminar todas las columnas que no tienen relevancia para el desarrollo de la API, dejando dejando el dataframe listo para ser trabajado."
      ],
      "metadata": {
        "id": "BYQit9PeIydW"
      }
    },
    {
      "cell_type": "code",
      "source": [
        "movies = movies.drop(columns=['genres','status','tagline','overview'], axis=1)\n",
        "movies.shape"
      ],
      "metadata": {
        "colab": {
          "base_uri": "https://localhost:8080/"
        },
        "id": "VjHwP1Lt1h8X",
        "outputId": "9d1a3641-139d-41ba-a8bf-020b68320f2a"
      },
      "execution_count": 39,
      "outputs": [
        {
          "output_type": "execute_result",
          "data": {
            "text/plain": [
              "(45451, 13)"
            ]
          },
          "metadata": {},
          "execution_count": 39
        }
      ]
    },
    {
      "cell_type": "markdown",
      "source": [
        "### A partir de este momento se procederá a trabajar con la columna 'tag', para limpiar de manera mas eficiente, y dejarla lista para cuando correspoda su uso."
      ],
      "metadata": {
        "id": "cRPWd1UqI76D"
      }
    },
    {
      "cell_type": "code",
      "source": [
        "#A través del módulo nltk vamos a separar cada palabra por cada columna para realizar algunas transformaciones.\n",
        "from nltk.tokenize import word_tokenize\n",
        "nltk.download('punkt')\n",
        "movies['tag'] = movies['tag'].apply(nltk.word_tokenize)\n",
        "movies['tag'][0]"
      ],
      "metadata": {
        "colab": {
          "base_uri": "https://localhost:8080/"
        },
        "id": "p4PCudeYWFP6",
        "outputId": "ff2f979f-66c9-4c41-d029-1393894986a8"
      },
      "execution_count": 42,
      "outputs": [
        {
          "output_type": "stream",
          "name": "stderr",
          "text": [
            "[nltk_data] Downloading package punkt to /root/nltk_data...\n",
            "[nltk_data]   Unzipping tokenizers/punkt.zip.\n"
          ]
        },
        {
          "output_type": "execute_result",
          "data": {
            "text/plain": [
              "['Led',\n",
              " 'by',\n",
              " 'Woody',\n",
              " ',',\n",
              " 'Andy',\n",
              " \"'s\",\n",
              " 'toys',\n",
              " 'live',\n",
              " 'happily',\n",
              " 'in',\n",
              " 'his',\n",
              " 'room',\n",
              " 'until',\n",
              " 'Andy',\n",
              " \"'s\",\n",
              " 'birthday',\n",
              " 'brings',\n",
              " 'Buzz',\n",
              " 'Lightyear',\n",
              " 'onto',\n",
              " 'the',\n",
              " 'scene',\n",
              " '.',\n",
              " 'Afraid',\n",
              " 'of',\n",
              " 'losing',\n",
              " 'his',\n",
              " 'place',\n",
              " 'in',\n",
              " 'Andy',\n",
              " \"'s\",\n",
              " 'heart',\n",
              " ',',\n",
              " 'Woody',\n",
              " 'plots',\n",
              " 'against',\n",
              " 'Buzz',\n",
              " '.',\n",
              " 'But',\n",
              " 'when',\n",
              " 'circumstances',\n",
              " 'separate',\n",
              " 'Buzz',\n",
              " 'and',\n",
              " 'Woody',\n",
              " 'from',\n",
              " 'their',\n",
              " 'owner',\n",
              " ',',\n",
              " 'the',\n",
              " 'duo',\n",
              " 'eventually',\n",
              " 'learns',\n",
              " 'to',\n",
              " 'put',\n",
              " 'aside',\n",
              " 'their',\n",
              " 'differences.nan',\n",
              " '[',\n",
              " \"'Animation\",\n",
              " \"'\",\n",
              " ',',\n",
              " \"'Comedy\",\n",
              " \"'\",\n",
              " ',',\n",
              " \"'Family\",\n",
              " \"'\",\n",
              " ']',\n",
              " '[',\n",
              " \"'TomHanks\",\n",
              " \"'\",\n",
              " ',',\n",
              " \"'TimAllen\",\n",
              " \"'\",\n",
              " ',',\n",
              " \"'DonRickles\",\n",
              " \"'\",\n",
              " ',',\n",
              " \"'JimVarney\",\n",
              " \"'\",\n",
              " ']',\n",
              " '[',\n",
              " \"'JohnLasseter\",\n",
              " \"'\",\n",
              " ']']"
            ]
          },
          "metadata": {},
          "execution_count": 42
        }
      ]
    },
    {
      "cell_type": "code",
      "source": [
        "def remove_short_words(valor):\n",
        "  token = []\n",
        "  for word in valor:\n",
        "    if len(word)>=3:\n",
        "      token.append(word)\n",
        "  return token\n",
        "\n",
        "movies['tag'] = movies['tag'].apply(remove_short_words)\n"
      ],
      "metadata": {
        "id": "PbY7ANp-dEh1"
      },
      "execution_count": 43,
      "outputs": []
    },
    {
      "cell_type": "code",
      "source": [
        "movies['tag'][0]"
      ],
      "metadata": {
        "colab": {
          "base_uri": "https://localhost:8080/"
        },
        "id": "NeI6a6Pue-4u",
        "outputId": "28821da7-205c-4edf-8745-5890ff3243b9"
      },
      "execution_count": 44,
      "outputs": [
        {
          "output_type": "execute_result",
          "data": {
            "text/plain": [
              "['Led',\n",
              " 'Woody',\n",
              " 'Andy',\n",
              " 'toys',\n",
              " 'live',\n",
              " 'happily',\n",
              " 'his',\n",
              " 'room',\n",
              " 'until',\n",
              " 'Andy',\n",
              " 'birthday',\n",
              " 'brings',\n",
              " 'Buzz',\n",
              " 'Lightyear',\n",
              " 'onto',\n",
              " 'the',\n",
              " 'scene',\n",
              " 'Afraid',\n",
              " 'losing',\n",
              " 'his',\n",
              " 'place',\n",
              " 'Andy',\n",
              " 'heart',\n",
              " 'Woody',\n",
              " 'plots',\n",
              " 'against',\n",
              " 'Buzz',\n",
              " 'But',\n",
              " 'when',\n",
              " 'circumstances',\n",
              " 'separate',\n",
              " 'Buzz',\n",
              " 'and',\n",
              " 'Woody',\n",
              " 'from',\n",
              " 'their',\n",
              " 'owner',\n",
              " 'the',\n",
              " 'duo',\n",
              " 'eventually',\n",
              " 'learns',\n",
              " 'put',\n",
              " 'aside',\n",
              " 'their',\n",
              " 'differences.nan',\n",
              " \"'Animation\",\n",
              " \"'Comedy\",\n",
              " \"'Family\",\n",
              " \"'TomHanks\",\n",
              " \"'TimAllen\",\n",
              " \"'DonRickles\",\n",
              " \"'JimVarney\",\n",
              " \"'JohnLasseter\"]"
            ]
          },
          "metadata": {},
          "execution_count": 44
        }
      ]
    },
    {
      "cell_type": "code",
      "source": [
        "#Eliminamos ahora eliminamos las stopwords, es decir son palabras comunes que no aportan información relevante al momento de analizar texto.\n",
        "from nltk.corpus import stopwords\n",
        "nltk.download(\"stopwords\")\n",
        "\n",
        "def remove_stop_words(valor):\n",
        "  a=set(stopwords.words('english'))\n",
        "  token = [word for word in valor if word not in a]\n",
        "  return token\n",
        "\n",
        "movies['tag'] = movies['tag'].apply(remove_stop_words)\n",
        "movies['tag'][0]"
      ],
      "metadata": {
        "colab": {
          "base_uri": "https://localhost:8080/"
        },
        "id": "HGU9-j70VcGC",
        "outputId": "600116cf-2f2b-4060-dbed-76078cd23483"
      },
      "execution_count": 45,
      "outputs": [
        {
          "output_type": "stream",
          "name": "stderr",
          "text": [
            "[nltk_data] Downloading package stopwords to /root/nltk_data...\n",
            "[nltk_data]   Unzipping corpora/stopwords.zip.\n"
          ]
        },
        {
          "output_type": "execute_result",
          "data": {
            "text/plain": [
              "['Led',\n",
              " 'Woody',\n",
              " 'Andy',\n",
              " 'toys',\n",
              " 'live',\n",
              " 'happily',\n",
              " 'room',\n",
              " 'Andy',\n",
              " 'birthday',\n",
              " 'brings',\n",
              " 'Buzz',\n",
              " 'Lightyear',\n",
              " 'onto',\n",
              " 'scene',\n",
              " 'Afraid',\n",
              " 'losing',\n",
              " 'place',\n",
              " 'Andy',\n",
              " 'heart',\n",
              " 'Woody',\n",
              " 'plots',\n",
              " 'Buzz',\n",
              " 'But',\n",
              " 'circumstances',\n",
              " 'separate',\n",
              " 'Buzz',\n",
              " 'Woody',\n",
              " 'owner',\n",
              " 'duo',\n",
              " 'eventually',\n",
              " 'learns',\n",
              " 'put',\n",
              " 'aside',\n",
              " 'differences.nan',\n",
              " \"'Animation\",\n",
              " \"'Comedy\",\n",
              " \"'Family\",\n",
              " \"'TomHanks\",\n",
              " \"'TimAllen\",\n",
              " \"'DonRickles\",\n",
              " \"'JimVarney\",\n",
              " \"'JohnLasseter\"]"
            ]
          },
          "metadata": {},
          "execution_count": 45
        }
      ]
    },
    {
      "cell_type": "code",
      "source": [
        "from nltk.stem import WordNetLemmatizer\n",
        "nltk.download('wordnet')\n",
        "\n",
        "def lemmatizer_words(valor):\n",
        "\n",
        "  token = [WordNetLemmatizer().lemmatize(word) for word in valor]\n",
        "  return token\n",
        "\n",
        "movies['tag'] = movies['tag'].apply(lemmatizer_words)\n",
        "movies['tag'][0]"
      ],
      "metadata": {
        "colab": {
          "base_uri": "https://localhost:8080/"
        },
        "id": "_jlhbeD1MBRv",
        "outputId": "5a953716-2832-4ee8-dfa0-62ac0f8ec0da"
      },
      "execution_count": 46,
      "outputs": [
        {
          "output_type": "stream",
          "name": "stderr",
          "text": [
            "[nltk_data] Downloading package wordnet to /root/nltk_data...\n"
          ]
        },
        {
          "output_type": "execute_result",
          "data": {
            "text/plain": [
              "['Led',\n",
              " 'Woody',\n",
              " 'Andy',\n",
              " 'toy',\n",
              " 'live',\n",
              " 'happily',\n",
              " 'room',\n",
              " 'Andy',\n",
              " 'birthday',\n",
              " 'brings',\n",
              " 'Buzz',\n",
              " 'Lightyear',\n",
              " 'onto',\n",
              " 'scene',\n",
              " 'Afraid',\n",
              " 'losing',\n",
              " 'place',\n",
              " 'Andy',\n",
              " 'heart',\n",
              " 'Woody',\n",
              " 'plot',\n",
              " 'Buzz',\n",
              " 'But',\n",
              " 'circumstance',\n",
              " 'separate',\n",
              " 'Buzz',\n",
              " 'Woody',\n",
              " 'owner',\n",
              " 'duo',\n",
              " 'eventually',\n",
              " 'learns',\n",
              " 'put',\n",
              " 'aside',\n",
              " 'differences.nan',\n",
              " \"'Animation\",\n",
              " \"'Comedy\",\n",
              " \"'Family\",\n",
              " \"'TomHanks\",\n",
              " \"'TimAllen\",\n",
              " \"'DonRickles\",\n",
              " \"'JimVarney\",\n",
              " \"'JohnLasseter\"]"
            ]
          },
          "metadata": {},
          "execution_count": 46
        }
      ]
    },
    {
      "cell_type": "code",
      "source": [
        "#Se eliminamos algunos caracteres innecesarios resultantes de la transformación.\n",
        "movies['tag'] = movies['tag'].apply(lambda x: [i.replace(\".nan\", \"\") for i in x])\n",
        "movies['tag'] = movies['tag'].apply(lambda x: [i.replace(\",\", \"\") for i in x])\n",
        "\n",
        "#convertimos de nuevo a un string todos los valores de la columna\n",
        "movies['tag']= movies['tag'].apply(' '.join)\n",
        "movies['tag'][0]"
      ],
      "metadata": {
        "colab": {
          "base_uri": "https://localhost:8080/",
          "height": 52
        },
        "id": "_OgpxV9qmsnm",
        "outputId": "b5f3d51b-5cec-4e1a-9e45-94960ecad545"
      },
      "execution_count": 47,
      "outputs": [
        {
          "output_type": "execute_result",
          "data": {
            "text/plain": [
              "\"Led Woody Andy toy live happily room Andy birthday brings Buzz Lightyear onto scene Afraid losing place Andy heart Woody plot Buzz But circumstance separate Buzz Woody owner duo eventually learns put aside differences 'Animation 'Comedy 'Family 'TomHanks 'TimAllen 'DonRickles 'JimVarney 'JohnLasseter\""
            ],
            "application/vnd.google.colaboratory.intrinsic+json": {
              "type": "string"
            }
          },
          "metadata": {},
          "execution_count": 47
        }
      ]
    },
    {
      "cell_type": "markdown",
      "source": [
        "###Para finalizar el proceso de ETL Se exporta el dataframe en el mismo formato en que fue entregado '.csv'"
      ],
      "metadata": {
        "id": "SHzd4OFZJZlx"
      }
    },
    {
      "cell_type": "code",
      "source": [
        "movies.to_csv('movies.csv', index=False)"
      ],
      "metadata": {
        "id": "YZhF58uiJthV"
      },
      "execution_count": 48,
      "outputs": []
    }
  ],
  "metadata": {
    "colab": {
      "provenance": []
    },
    "kernelspec": {
      "display_name": "Python 3",
      "name": "python3"
    },
    "language_info": {
      "name": "python"
    }
  },
  "nbformat": 4,
  "nbformat_minor": 0
}